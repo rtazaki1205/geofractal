{
 "cells": [
  {
   "cell_type": "markdown",
   "metadata": {},
   "source": [
    "# Create figures for Tazaki (submitted to MNRAS)\n",
    "\n",
    "\n",
    "# Figure 3\n",
    "\n",
    "## compute geometric cross sections\n",
    "\n",
    "call geofractal.py to compute cross sections"
   ]
  },
  {
   "cell_type": "code",
   "execution_count": 55,
   "metadata": {
    "scrolled": true
   },
   "outputs": [],
   "source": [
    "import numpy as np\n",
    "from geofractal import *\n",
    "from otherformula import *\n",
    "\n",
    "#-------------------------------------------------------\n",
    "# Fractal dimension\n",
    "#-------------------------------------------------------\n",
    "df_chain = 1.0\n",
    "df_bcca  = 1.9\n",
    "df_bpca  = 3.0\n",
    "\n",
    "#-------------------------------------------------------\n",
    "# Fractal prefactor\n",
    "#-------------------------------------------------------\n",
    "k0_chain = np.sqrt(3.0)\n",
    "k0_bcca  = 1.04\n",
    "k0_bpca  = 0.3\n",
    "#k0 = 0.5*(0.3-np.sqrt(3.0))*(df-1.0)+np.sqrt(3.0)\n",
    "\n",
    "#-------------------------------------------------------\n",
    "# Model of correlation function\n",
    "#-------------------------------------------------------\n",
    "cormodel= 'FLDIM'\n",
    "\n",
    "#-------------------------------------------------------\n",
    "# call geofractal.py\n",
    "#-------------------------------------------------------\n",
    "Nmin = 1.e0\n",
    "Nmax = 1.e4\n",
    "N    = 250\n",
    "PN   = np.exp(np.linspace(math.log(Nmin),math.log(Nmax),N))\n",
    "G_chain = np.zeros(N)\n",
    "G_bcca = np.zeros(N)\n",
    "G_bpca = np.zeros(N)\n",
    "G_chain_exact = np.zeros(N)\n",
    "G_M06_bcca = np.zeros(N)\n",
    "G_M06_bpca = np.zeros(N)\n",
    "for i in range(N):\n",
    "    G_chain[i] = geofractal(PN[i],df_chain,k0_chain,cormodel)\n",
    "    G_bcca[i] = geofractal(PN[i],df_bcca,k0_bcca,cormodel)\n",
    "    G_bpca[i] = geofractal(PN[i],df_bpca,k0_bpca,cormodel)\n",
    "    G_chain_exact[i] = chain_exact(PN[i])\n",
    "    G_M06_bpca[i] = minato06_bpca(PN[i])\n",
    "    G_M06_bcca[i] = minato06_bcca(PN[i])\n",
    "    \n",
    "#filename1='gratio_geofractal.out'\n",
    "#filename2='gratio_previous.out'\n",
    "#with open(filename1,'w') as f:\n",
    "#    f.write('# df  = %13.6e \\n'%df)\n",
    "#    f.write('# k0  = %13.6e \\n'%k0)\n",
    "#    f.write('# model = %11s \\n'%cormodel)\n",
    "#    #f.write('# %11s %13s\\n'%('N','G/NpiR0^2'))\n",
    "#    f.write('# %11s %13s %13s %13s\\n'%('N','Chain','BCCA','BPCA'))\n",
    "#    for i in range(N):\n",
    "#        f.write(%13.6e %13.6e %13.6e %13.6e\\n'%(PN[i],G_chain[i],G_bcca[i],G_bpca[i]))\n",
    "#print('# model = %11s'%cormodel)\n",
    "#print('# %11s %13s %13s %13s'%('N','Chain','BCCA','BPCA'))\n",
    "#print ('%13.6e %13.6e %13.6e %13.6e'%(PN[i],G_chain[i],G_bcca[i],G_bpca[i]))"
   ]
  },
  {
   "cell_type": "markdown",
   "metadata": {},
   "source": [
    "## make plot"
   ]
  },
  {
   "cell_type": "code",
   "execution_count": 57,
   "metadata": {},
   "outputs": [
    {
     "data": {
      "image/png": "[encoded data removed]",
      "text/plain": [
       "<Figure size 432x288 with 1 Axes>"
      ]
     },
     "metadata": {
      "needs_background": "light"
     },
     "output_type": "display_data"
    }
   ],
   "source": [
    "import matplotlib as mpl\n",
    "from matplotlib import ticker, gridspec\n",
    "import matplotlib.pyplot as plt\n",
    "\n",
    "%matplotlib inline\n",
    "\n",
    "f  = plt.figure(figsize=(6,4))\n",
    "ax = plt.gca()\n",
    "label_size=22\n",
    "ax.tick_params(labelsize=label_size,direction='in',which='both',right=True,top=True)\n",
    "ax.loglog(PN[:],G_chain_exact[:],color='grey',linestyle='--',label=r'$\\mathrm{CHAIN~(Exact)}$')\n",
    "ax.loglog(PN[:],G_M06_bpca[:],color='b',linestyle='--',label=r'$\\mathrm{Minato~et~al.~(2006)}$')\n",
    "ax.loglog(PN[:],G_M06_bcca[:],color='b',linestyle='--')\n",
    "ax.loglog(PN[:],G_chain[:],color='r',linestyle='-', label=r'$\\mathrm{This~study}$')\n",
    "ax.loglog(PN[:],G_bpca[:],color='r',linestyle='-')\n",
    "ax.loglog(PN[:],G_bcca[:],color='r',linestyle='-')\n",
    "ax.set_ylim(1e-1,1.3)\n",
    "ax.set_xlim(1.e0,1.e4)\n",
    "ax.set_xlabel(r'$N$',fontsize=label_size)\n",
    "ax.set_ylabel(r'$G/N\\pi R_0^2$',fontsize=label_size)\n",
    "ax.legend(loc='best',fontsize='large')\n",
    "ax.text(1.e3,0.95, r'$\\mathrm{CHAIN}$', fontsize=16)\n",
    "ax.text(1.e3,0.63, r'$\\mathrm{BCCA}$', fontsize=16)\n",
    "ax.text(1.e3,0.37, r'$\\mathrm{BPCA}$', fontsize=16)\n",
    "plt.tight_layout()\n",
    "plt.show()\n",
    "f.savefig('fig3.pdf')"
   ]
  },
  {
   "cell_type": "markdown",
   "metadata": {},
   "source": [
    "## Figure 4"
   ]
  },
  {
   "cell_type": "code",
   "execution_count": null,
   "metadata": {},
   "outputs": [],
   "source": []
  }
 ],
 "metadata": {
  "kernelspec": {
   "display_name": "Python 3",
   "language": "python",
   "name": "python3"
  },
  "language_info": {
   "codemirror_mode": {
    "name": "ipython",
    "version": 3
   },
   "file_extension": ".py",
   "mimetype": "text/x-python",
   "name": "python",
   "nbconvert_exporter": "python",
   "pygments_lexer": "ipython3",
   "version": "3.8.5"
  }
 },
 "nbformat": 4,
 "nbformat_minor": 4
}
